{
  "nbformat": 4,
  "nbformat_minor": 0,
  "metadata": {
    "colab": {
      "provenance": [],
      "authorship_tag": "ABX9TyNzDU0hUv3DoOedz+yInP1q",
      "include_colab_link": true
    },
    "kernelspec": {
      "name": "python3",
      "display_name": "Python 3"
    },
    "language_info": {
      "name": "python"
    }
  },
  "cells": [
    {
      "cell_type": "markdown",
      "metadata": {
        "id": "view-in-github",
        "colab_type": "text"
      },
      "source": [
        "<a href=\"https://colab.research.google.com/github/PadraigLordan/CS2213/blob/main/CSS2213_ASSIGNMENT.ipynb\" target=\"_parent\"><img src=\"https://colab.research.google.com/assets/colab-badge.svg\" alt=\"Open In Colab\"/></a>"
      ]
    },
    {
      "cell_type": "markdown",
      "source": [
        "Padraig Lordan\n",
        "123788645\n",
        "\n",
        "\n",
        "This dataset comtains NBA team stats such as wins, losses, and general in game stats. These can be used to identify stats that indicate how good or bad a team is, and why they may be so good or bad."
      ],
      "metadata": {
        "id": "WRJDMCXH8yx8"
      }
    },
    {
      "cell_type": "code",
      "execution_count": 90,
      "metadata": {
        "colab": {
          "base_uri": "https://localhost:8080/"
        },
        "id": "zR0HdwSGPILC",
        "outputId": "5bf3f1db-090b-44c4-b945-0455688ea071"
      },
      "outputs": [
        {
          "output_type": "execute_result",
          "data": {
            "text/plain": [
              "(716, 29)"
            ]
          },
          "metadata": {},
          "execution_count": 90
        }
      ],
      "source": [
        "import pandas as pd\n",
        "\n",
        "df = pd.read_csv(\"https://raw.githubusercontent.com/PadraigLordan/CS2213assignment/refs/heads/main/nba_team_stats_00_to_23.csv\")\n",
        "\n",
        "df.shape\n",
        "\n",
        "\n"
      ]
    },
    {
      "cell_type": "code",
      "source": [
        "df.dtypes"
      ],
      "metadata": {
        "colab": {
          "base_uri": "https://localhost:8080/",
          "height": 993
        },
        "id": "nkx2FXyz2hKj",
        "outputId": "52c28ec6-8a20-44f5-aff7-4ed1605d175b"
      },
      "execution_count": 91,
      "outputs": [
        {
          "output_type": "execute_result",
          "data": {
            "text/plain": [
              "teamstatspk                   int64\n",
              "Team                         object\n",
              "games_played                  int64\n",
              "wins                          int64\n",
              "losses                        int64\n",
              "win_percentage              float64\n",
              "Min                           int64\n",
              "points                        int64\n",
              "field_goals_made              int64\n",
              "field_goals_attempted         int64\n",
              "field_goal_percentage       float64\n",
              "three_pointers_made           int64\n",
              "three_pointers_attempted      int64\n",
              "three_point_percentage      float64\n",
              "free_throws_made              int64\n",
              "free_throw_attempted          int64\n",
              "free_throw_percentage       float64\n",
              "offensive_rebounds            int64\n",
              "defensive_rebounds            int64\n",
              "rebounds                      int64\n",
              "assists                       int64\n",
              "turnovers                     int64\n",
              "steals                        int64\n",
              "blocks                        int64\n",
              "blocks_attempted              int64\n",
              "personal_fouls                int64\n",
              "personal_fouls_drawn          int64\n",
              "plus_minus                    int64\n",
              "season                       object\n",
              "dtype: object"
            ],
            "text/html": [
              "<div>\n",
              "<style scoped>\n",
              "    .dataframe tbody tr th:only-of-type {\n",
              "        vertical-align: middle;\n",
              "    }\n",
              "\n",
              "    .dataframe tbody tr th {\n",
              "        vertical-align: top;\n",
              "    }\n",
              "\n",
              "    .dataframe thead th {\n",
              "        text-align: right;\n",
              "    }\n",
              "</style>\n",
              "<table border=\"1\" class=\"dataframe\">\n",
              "  <thead>\n",
              "    <tr style=\"text-align: right;\">\n",
              "      <th></th>\n",
              "      <th>0</th>\n",
              "    </tr>\n",
              "  </thead>\n",
              "  <tbody>\n",
              "    <tr>\n",
              "      <th>teamstatspk</th>\n",
              "      <td>int64</td>\n",
              "    </tr>\n",
              "    <tr>\n",
              "      <th>Team</th>\n",
              "      <td>object</td>\n",
              "    </tr>\n",
              "    <tr>\n",
              "      <th>games_played</th>\n",
              "      <td>int64</td>\n",
              "    </tr>\n",
              "    <tr>\n",
              "      <th>wins</th>\n",
              "      <td>int64</td>\n",
              "    </tr>\n",
              "    <tr>\n",
              "      <th>losses</th>\n",
              "      <td>int64</td>\n",
              "    </tr>\n",
              "    <tr>\n",
              "      <th>win_percentage</th>\n",
              "      <td>float64</td>\n",
              "    </tr>\n",
              "    <tr>\n",
              "      <th>Min</th>\n",
              "      <td>int64</td>\n",
              "    </tr>\n",
              "    <tr>\n",
              "      <th>points</th>\n",
              "      <td>int64</td>\n",
              "    </tr>\n",
              "    <tr>\n",
              "      <th>field_goals_made</th>\n",
              "      <td>int64</td>\n",
              "    </tr>\n",
              "    <tr>\n",
              "      <th>field_goals_attempted</th>\n",
              "      <td>int64</td>\n",
              "    </tr>\n",
              "    <tr>\n",
              "      <th>field_goal_percentage</th>\n",
              "      <td>float64</td>\n",
              "    </tr>\n",
              "    <tr>\n",
              "      <th>three_pointers_made</th>\n",
              "      <td>int64</td>\n",
              "    </tr>\n",
              "    <tr>\n",
              "      <th>three_pointers_attempted</th>\n",
              "      <td>int64</td>\n",
              "    </tr>\n",
              "    <tr>\n",
              "      <th>three_point_percentage</th>\n",
              "      <td>float64</td>\n",
              "    </tr>\n",
              "    <tr>\n",
              "      <th>free_throws_made</th>\n",
              "      <td>int64</td>\n",
              "    </tr>\n",
              "    <tr>\n",
              "      <th>free_throw_attempted</th>\n",
              "      <td>int64</td>\n",
              "    </tr>\n",
              "    <tr>\n",
              "      <th>free_throw_percentage</th>\n",
              "      <td>float64</td>\n",
              "    </tr>\n",
              "    <tr>\n",
              "      <th>offensive_rebounds</th>\n",
              "      <td>int64</td>\n",
              "    </tr>\n",
              "    <tr>\n",
              "      <th>defensive_rebounds</th>\n",
              "      <td>int64</td>\n",
              "    </tr>\n",
              "    <tr>\n",
              "      <th>rebounds</th>\n",
              "      <td>int64</td>\n",
              "    </tr>\n",
              "    <tr>\n",
              "      <th>assists</th>\n",
              "      <td>int64</td>\n",
              "    </tr>\n",
              "    <tr>\n",
              "      <th>turnovers</th>\n",
              "      <td>int64</td>\n",
              "    </tr>\n",
              "    <tr>\n",
              "      <th>steals</th>\n",
              "      <td>int64</td>\n",
              "    </tr>\n",
              "    <tr>\n",
              "      <th>blocks</th>\n",
              "      <td>int64</td>\n",
              "    </tr>\n",
              "    <tr>\n",
              "      <th>blocks_attempted</th>\n",
              "      <td>int64</td>\n",
              "    </tr>\n",
              "    <tr>\n",
              "      <th>personal_fouls</th>\n",
              "      <td>int64</td>\n",
              "    </tr>\n",
              "    <tr>\n",
              "      <th>personal_fouls_drawn</th>\n",
              "      <td>int64</td>\n",
              "    </tr>\n",
              "    <tr>\n",
              "      <th>plus_minus</th>\n",
              "      <td>int64</td>\n",
              "    </tr>\n",
              "    <tr>\n",
              "      <th>season</th>\n",
              "      <td>object</td>\n",
              "    </tr>\n",
              "  </tbody>\n",
              "</table>\n",
              "</div><br><label><b>dtype:</b> object</label>"
            ]
          },
          "metadata": {},
          "execution_count": 91
        }
      ]
    },
    {
      "cell_type": "code",
      "source": [
        "#1\n",
        "team_wins_points = df[['Team', 'wins', 'points']].sort_values(by=['points'], ascending=False)\n",
        "\n",
        "print(team_wins_points)"
      ],
      "metadata": {
        "colab": {
          "base_uri": "https://localhost:8080/"
        },
        "id": "cXU-puOl2ts4",
        "outputId": "c177d42c-4cce-483c-e903-adca1728f19e"
      },
      "execution_count": 95,
      "outputs": [
        {
          "output_type": "stream",
          "name": "stdout",
          "text": [
            "                      Team  wins  points\n",
            "11          Indiana Pacers    47   10110\n",
            "36        Sacramento Kings    48    9898\n",
            "0           Boston Celtics    64    9887\n",
            "2    Oklahoma City Thunder    57    9847\n",
            "7          Milwaukee Bucks    49    9756\n",
            "..                     ...   ...     ...\n",
            "369         Boston Celtics    39    6062\n",
            "381        Detroit Pistons    25    5997\n",
            "383        Toronto Raptors    23    5986\n",
            "387    New Orleans Hornets    21    5916\n",
            "389      Charlotte Bobcats     7    5739\n",
            "\n",
            "[716 rows x 3 columns]\n"
          ]
        }
      ]
    },
    {
      "cell_type": "markdown",
      "source": [
        "Analysing teams points and wins, we see the more points teams have, the more wins they have. This shows a direct correlation between points and wins. This stat ranges over a number of years, showing there is a large dataset to back the information up."
      ],
      "metadata": {
        "id": "73TixljQ4X5s"
      }
    },
    {
      "cell_type": "code",
      "source": [
        "#2\n",
        "df_high_scorers = df[(df['assists'] > 100) & (df['wins'] > 50)]\n",
        "df_high_scorers = df[(df['assists'] > 100) | (df['wins'] > 50)]\n",
        "print(df_high_scorers)"
      ],
      "metadata": {
        "colab": {
          "base_uri": "https://localhost:8080/"
        },
        "id": "HnBJeB8N4zbI",
        "outputId": "77b642c1-c90f-4e46-de82-3e1d61e4856a"
      },
      "execution_count": 98,
      "outputs": [
        {
          "output_type": "stream",
          "name": "stdout",
          "text": [
            "     teamstatspk                    Team  games_played  wins  losses  \\\n",
            "0              0          Boston Celtics            82    64      18   \n",
            "1              1          Denver Nuggets            82    57      25   \n",
            "2              2   Oklahoma City Thunder            82    57      25   \n",
            "3              3  Minnesota Timberwolves            82    56      26   \n",
            "4              4             LA Clippers            82    51      31   \n",
            "..           ...                     ...           ...   ...     ...   \n",
            "711          711           Atlanta Hawks            82    25      57   \n",
            "712          712     Vancouver Grizzlies            82    23      59   \n",
            "713          713      Washington Wizards            82    19      63   \n",
            "714          714   Golden State Warriors            82    17      65   \n",
            "715          715           Chicago Bulls            82    15      67   \n",
            "\n",
            "     win_percentage   Min  points  field_goals_made  field_goals_attempted  \\\n",
            "0             0.780  3966    9887              3601                   7396   \n",
            "1             0.695  3941    9418              3610                   7279   \n",
            "2             0.695  3961    9847              3653                   7324   \n",
            "3             0.683  3961    9264              3383                   6974   \n",
            "4             0.622  3941    9481              3473                   7108   \n",
            "..              ...   ...     ...               ...                    ...   \n",
            "711           0.305  3946    7459              2876                   6668   \n",
            "712           0.280  3956    7522              2870                   6539   \n",
            "713           0.232  3936    7645              2833                   6453   \n",
            "714           0.207  3956    7584              2937                   7175   \n",
            "715           0.183  3971    7181              2721                   6411   \n",
            "\n",
            "     ...  rebounds  assists  turnovers  steals  blocks  blocks_attempted  \\\n",
            "0    ...      3799     2207        979     557     538               304   \n",
            "1    ...      3643     2415       1036     585     456               394   \n",
            "2    ...      3447     2223       1039     694     538               419   \n",
            "3    ...      3577     2184       1162     647     497               371   \n",
            "4    ...      3523     2097       1078     640     413               384   \n",
            "..   ...       ...      ...        ...     ...     ...               ...   \n",
            "711  ...      3518     1559       1368     634     387               513   \n",
            "712  ...      3325     1899       1291     586     359               476   \n",
            "713  ...      3386     1647       1391     630     383               511   \n",
            "714  ...      3730     1788       1301     742     410               493   \n",
            "715  ...      3186     1810       1292     675     379               426   \n",
            "\n",
            "     personal_fouls  personal_fouls_drawn  plus_minus   season  \n",
            "0              1326                  1416         930  2023-24  \n",
            "1              1489                  1467         431  2023-24  \n",
            "2              1545                  1548         608  2023-24  \n",
            "3              1544                  1630         529  2023-24  \n",
            "4              1519                  1537         269  2023-24  \n",
            "..              ...                   ...         ...      ...  \n",
            "711            1863                     7        -427  2000-01  \n",
            "712            1733                     5        -470  2000-01  \n",
            "713            1913                     9        -547  2000-01  \n",
            "714            1727                     6        -742  2000-01  \n",
            "715            1902                     3        -746  2000-01  \n",
            "\n",
            "[716 rows x 29 columns]\n"
          ]
        }
      ]
    },
    {
      "cell_type": "markdown",
      "source": [
        "We see here that teams with higher assists, have a higher field goal made percentage, which then turns into more wins. We see that assists make it easier to score, where teams with low assist totals have teams scoring less therefore winning less."
      ],
      "metadata": {
        "id": "ndemOc6J5xS_"
      }
    },
    {
      "cell_type": "code",
      "source": [
        "print(df.iloc[:20, [3, 11]])"
      ],
      "metadata": {
        "colab": {
          "base_uri": "https://localhost:8080/"
        },
        "id": "ieG8TIw06GSe",
        "outputId": "4a240423-12b0-4325-8de7-ca01baf00505"
      },
      "execution_count": 100,
      "outputs": [
        {
          "output_type": "stream",
          "name": "stdout",
          "text": [
            "    wins  three_pointers_made\n",
            "0     64                 1351\n",
            "1     57                  958\n",
            "2     57                 1090\n",
            "3     56                 1037\n",
            "4     51                 1036\n",
            "5     50                 1197\n",
            "6     50                 1083\n",
            "7     49                 1163\n",
            "8     49                 1023\n",
            "9     49                 1020\n",
            "10    48                 1108\n",
            "11    47                 1082\n",
            "12    47                  969\n",
            "13    47                  903\n",
            "14    47                  992\n",
            "15    46                 1211\n",
            "16    46                 1022\n",
            "17    46                 1178\n",
            "18    41                 1043\n",
            "19    39                  941\n"
          ]
        }
      ]
    },
    {
      "cell_type": "markdown",
      "source": [
        "3 pointers made is another analysis we see that increases the win column for teams. We see clearly see that the more 3 pointers made, the better teams win column is."
      ],
      "metadata": {
        "id": "YAyThjiF6c0D"
      }
    },
    {
      "cell_type": "markdown",
      "source": [
        "Using these 3 brief forms of analysis, we see how team stats may contribute to team wins, and how individual player stats effect a team overall."
      ],
      "metadata": {
        "id": "ybdOu9e87g7z"
      }
    }
  ]
}